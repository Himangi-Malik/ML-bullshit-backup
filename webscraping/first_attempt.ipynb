{
 "cells": [
  {
   "cell_type": "code",
   "execution_count": 1,
   "id": "46617548-95b0-48e4-ab6b-bf88d5df0dbe",
   "metadata": {},
   "outputs": [],
   "source": [
    "from selenium import webdriver\n",
    "from selenium.webdriver.common.by import By"
   ]
  },
  {
   "cell_type": "code",
   "execution_count": 2,
   "id": "8a58d1ad-dfb1-4c2f-a140-35d445059d43",
   "metadata": {},
   "outputs": [
    {
     "data": {
      "text/plain": [
       "'https://www.selenium.dev/selenium/web/web-form.html'"
      ]
     },
     "execution_count": 2,
     "metadata": {},
     "output_type": "execute_result"
    }
   ],
   "source": [
    "driver = webdriver.Chrome()\n",
    "driver.get(\"https://www.selenium.dev/selenium/web/web-form.html\")\n",
    "#okay this is the website that they h ave created as a demo\n",
    "title = driver.title #iss mein mek o website ka title mil gya\n",
    "title\n",
    "url = driver.current_url\n",
    "url"
   ]
  },
  {
   "cell_type": "code",
   "execution_count": 3,
   "id": "de697b01-627e-4473-b802-3452f55111b6",
   "metadata": {},
   "outputs": [],
   "source": [
    "#bc webscraping is fucking fun hehehehehehe thanks"
   ]
  },
  {
   "cell_type": "code",
   "execution_count": 4,
   "id": "37792efb-e1ea-430b-8a06-e3bbbc16903b",
   "metadata": {},
   "outputs": [
    {
     "data": {
      "text/plain": [
       "'Received!'"
      ]
     },
     "execution_count": 4,
     "metadata": {},
     "output_type": "execute_result"
    }
   ],
   "source": [
    "text_box = driver.find_element(by=By.NAME, value=\"my-text\")\n",
    "submit_button = driver.find_element(by=By.CSS_SELECTOR, value=\"button\")\n",
    "text_box.send_keys(\"Selenium\")\n",
    "submit_button.click()\n",
    "message = driver.find_element(by=By.ID, value=\"message\")\n",
    "text = message.text\n",
    "text"
   ]
  },
  {
   "cell_type": "code",
   "execution_count": 5,
   "id": "9c9eef8a-4743-45c5-b785-f6f01d24ecee",
   "metadata": {},
   "outputs": [],
   "source": [
    "driver.quit()"
   ]
  },
  {
   "cell_type": "code",
   "execution_count": null,
   "id": "3daf3949-f683-47a0-a926-bffcdfba7fca",
   "metadata": {},
   "outputs": [],
   "source": []
  }
 ],
 "metadata": {
  "kernelspec": {
   "display_name": "Python 3 (ipykernel)",
   "language": "python",
   "name": "python3"
  },
  "language_info": {
   "codemirror_mode": {
    "name": "ipython",
    "version": 3
   },
   "file_extension": ".py",
   "mimetype": "text/x-python",
   "name": "python",
   "nbconvert_exporter": "python",
   "pygments_lexer": "ipython3",
   "version": "3.12.4"
  }
 },
 "nbformat": 4,
 "nbformat_minor": 5
}
