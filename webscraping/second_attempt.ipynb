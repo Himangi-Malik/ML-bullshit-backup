{
 "cells": [
  {
   "cell_type": "code",
   "execution_count": 2,
   "id": "29d86aa6-2560-4755-a0df-f2602d35b6eb",
   "metadata": {},
   "outputs": [],
   "source": [
    "from selenium import webdriver\n",
    "from selenium.webdriver.common.by import By\n",
    "import time\n",
    "\n",
    "\n",
    "service = webdriver.ChromeService()\n",
    "driver = webdriver.Chrome(service=service)\n",
    "\n",
    "url = 'https://departments.nitj.ac.in/dept/cy/Faculty'\n",
    "driver.get(url)\n",
    "\n",
    "#the majority of most peoples selenium code involves working with web elements\n",
    "\n"
   ]
  },
  {
   "cell_type": "code",
   "execution_count": 1,
   "id": "c10e896d-6ae4-4e47-b86f-3ef89e9f225b",
   "metadata": {},
   "outputs": [],
   "source": [
    "#element = driver.find_element_by_name('element_name')"
   ]
  },
  {
   "cell_type": "code",
   "execution_count": null,
   "id": "14675a03-9cdd-4936-8033-b638190ed39c",
   "metadata": {},
   "outputs": [],
   "source": []
  },
  {
   "cell_type": "code",
   "execution_count": 3,
   "id": "c4c53b1d-82a2-43df-9c56-df219b28466c",
   "metadata": {},
   "outputs": [],
   "source": [
    "#time.sleep(10)\n",
    "driver.quit()"
   ]
  },
  {
   "cell_type": "code",
   "execution_count": null,
   "id": "d4f86db0-2f8c-4470-8dd6-03da80fecbb4",
   "metadata": {},
   "outputs": [],
   "source": []
  }
 ],
 "metadata": {
  "kernelspec": {
   "display_name": "Python 3 (ipykernel)",
   "language": "python",
   "name": "python3"
  },
  "language_info": {
   "codemirror_mode": {
    "name": "ipython",
    "version": 3
   },
   "file_extension": ".py",
   "mimetype": "text/x-python",
   "name": "python",
   "nbconvert_exporter": "python",
   "pygments_lexer": "ipython3",
   "version": "3.12.4"
  }
 },
 "nbformat": 4,
 "nbformat_minor": 5
}
